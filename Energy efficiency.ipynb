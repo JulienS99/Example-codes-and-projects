{
 "cells": [
  {
   "cell_type": "code",
   "execution_count": 1,
   "metadata": {},
   "outputs": [],
   "source": [
    "import pandas as pd\n",
    "import numpy as np\n",
    "from sklearn import linear_model, preprocessing, tree\n",
    "from sklearn.metrics import accuracy_score, mean_squared_error,r2_score\n",
    "from sklearn.model_selection import train_test_split\n",
    "from sklearn.model_selection import cross_val_score\n",
    "from sklearn.model_selection import KFold\n",
    "import matplotlib.pyplot as plt #Matplotlib \n",
    "from matplotlib import style #style\n"
   ]
  },
  {
   "cell_type": "code",
   "execution_count": 2,
   "metadata": {},
   "outputs": [],
   "source": [
    "df = pd.read_excel('C:/Users/julie/Desktop/Data science/Datasets/ENB2012_data.xlsx')"
   ]
  },
  {
   "cell_type": "code",
   "execution_count": 3,
   "metadata": {},
   "outputs": [],
   "source": [
    "df.columns = ['Relative_Compactness', 'Surface_Area', 'Wall_Area', 'Roof_Area', 'Overall_Height',\n",
    "                'Orientation', 'Glazing_Area', 'Glazing_Area_Distribution', 'Heating_Load', 'Cooling_Load']"
   ]
  },
  {
   "cell_type": "code",
   "execution_count": 4,
   "metadata": {},
   "outputs": [
    {
     "name": "stdout",
     "output_type": "stream",
     "text": [
      "(768, 10)\n",
      "   Relative_Compactness  Surface_Area  Wall_Area  Roof_Area  Overall_Height  \\\n",
      "0                  0.98         514.5      294.0     110.25             7.0   \n",
      "1                  0.98         514.5      294.0     110.25             7.0   \n",
      "2                  0.98         514.5      294.0     110.25             7.0   \n",
      "3                  0.98         514.5      294.0     110.25             7.0   \n",
      "\n",
      "   Orientation  Glazing_Area  Glazing_Area_Distribution  Heating_Load  \\\n",
      "0            2           0.0                          0         15.55   \n",
      "1            3           0.0                          0         15.55   \n",
      "2            4           0.0                          0         15.55   \n",
      "3            5           0.0                          0         15.55   \n",
      "\n",
      "   Cooling_Load  \n",
      "0         21.33  \n",
      "1         21.33  \n",
      "2         21.33  \n",
      "3         21.33  \n",
      "       Relative_Compactness  Surface_Area   Wall_Area   Roof_Area  \\\n",
      "count            768.000000    768.000000  768.000000  768.000000   \n",
      "mean               0.764167    671.708333  318.500000  176.604167   \n",
      "std                0.105777     88.086116   43.626481   45.165950   \n",
      "min                0.620000    514.500000  245.000000  110.250000   \n",
      "25%                0.682500    606.375000  294.000000  140.875000   \n",
      "50%                0.750000    673.750000  318.500000  183.750000   \n",
      "75%                0.830000    741.125000  343.000000  220.500000   \n",
      "max                0.980000    808.500000  416.500000  220.500000   \n",
      "\n",
      "       Overall_Height  Orientation  Glazing_Area  Glazing_Area_Distribution  \\\n",
      "count       768.00000   768.000000    768.000000                  768.00000   \n",
      "mean          5.25000     3.500000      0.234375                    2.81250   \n",
      "std           1.75114     1.118763      0.133221                    1.55096   \n",
      "min           3.50000     2.000000      0.000000                    0.00000   \n",
      "25%           3.50000     2.750000      0.100000                    1.75000   \n",
      "50%           5.25000     3.500000      0.250000                    3.00000   \n",
      "75%           7.00000     4.250000      0.400000                    4.00000   \n",
      "max           7.00000     5.000000      0.400000                    5.00000   \n",
      "\n",
      "       Heating_Load  Cooling_Load  \n",
      "count    768.000000    768.000000  \n",
      "mean      22.307195     24.587760  \n",
      "std       10.090204      9.513306  \n",
      "min        6.010000     10.900000  \n",
      "25%       12.992500     15.620000  \n",
      "50%       18.950000     22.080000  \n",
      "75%       31.667500     33.132500  \n",
      "max       43.100000     48.030000  \n"
     ]
    }
   ],
   "source": [
    "print (df.shape) #768x10\n",
    "print (df.head(4))\n",
    "print (df.describe())"
   ]
  },
  {
   "cell_type": "code",
   "execution_count": 5,
   "metadata": {},
   "outputs": [
    {
     "name": "stdout",
     "output_type": "stream",
     "text": [
      "Relative_Compactness         float64\n",
      "Surface_Area                 float64\n",
      "Wall_Area                    float64\n",
      "Roof_Area                    float64\n",
      "Overall_Height               float64\n",
      "Orientation                    int64\n",
      "Glazing_Area                 float64\n",
      "Glazing_Area_Distribution      int64\n",
      "Heating_Load                 float64\n",
      "Cooling_Load                 float64\n",
      "dtype: object\n"
     ]
    }
   ],
   "source": [
    "print(df.dtypes)"
   ]
  },
  {
   "cell_type": "code",
   "execution_count": 6,
   "metadata": {},
   "outputs": [
    {
     "data": {
      "image/png": "[encoded data removed]",
      "text/plain": [
       "<Figure size 432x288 with 1 Axes>"
      ]
     },
     "metadata": {
      "needs_background": "light"
     },
     "output_type": "display_data"
    }
   ],
   "source": [
    "#Relative_Compactness\n",
    "plt.figure()\n",
    "plt.hist(df.Relative_Compactness, color = '#3541e5', alpha = 0.7) \n",
    "plt.xlabel('Relative Compactness')\n",
    "plt.ylabel('Frequency')\n",
    "plt.grid(False)"
   ]
  },
  {
   "cell_type": "code",
   "execution_count": 7,
   "metadata": {},
   "outputs": [
    {
     "data": {
      "image/png": "[encoded data removed]",
      "text/plain": [
       "<Figure size 432x288 with 1 Axes>"
      ]
     },
     "metadata": {
      "needs_background": "light"
     },
     "output_type": "display_data"
    }
   ],
   "source": [
    "#Surface_Area\n",
    "plt.figure()\n",
    "plt.hist(df.Surface_Area, color = '#3541e5', alpha = 0.7) \n",
    "plt.xlabel('Surface Area')\n",
    "plt.ylabel('Frequency')\n",
    "plt.grid(False)"
   ]
  },
  {
   "cell_type": "code",
   "execution_count": 8,
   "metadata": {},
   "outputs": [
    {
     "data": {
      "image/png": "[encoded data removed]",
      "text/plain": [
       "<Figure size 432x288 with 1 Axes>"
      ]
     },
     "metadata": {
      "needs_background": "light"
     },
     "output_type": "display_data"
    }
   ],
   "source": [
    "#Wall_Area\n",
    "plt.figure()\n",
    "plt.hist(df.Wall_Area, color = '#3541e5', alpha = 0.7) \n",
    "plt.xlabel('Wall Area')\n",
    "plt.ylabel('Frequency')\n",
    "plt.grid(False)"
   ]
  },
  {
   "cell_type": "code",
   "execution_count": 9,
   "metadata": {},
   "outputs": [
    {
     "data": {
      "image/png": "[encoded data removed]",
      "text/plain": [
       "<Figure size 432x288 with 1 Axes>"
      ]
     },
     "metadata": {
      "needs_background": "light"
     },
     "output_type": "display_data"
    }
   ],
   "source": [
    "#Roof_Area\n",
    "plt.figure()\n",
    "plt.hist(df.Roof_Area, color = '#3541e5', alpha = 0.7)\n",
    "plt.xlabel('Roof Area')\n",
    "plt.ylabel('Frequency')\n",
    "plt.grid(False)"
   ]
  },
  {
   "cell_type": "code",
   "execution_count": 10,
   "metadata": {},
   "outputs": [
    {
     "data": {
      "image/png": "[encoded data removed]",
      "text/plain": [
       "<Figure size 432x288 with 1 Axes>"
      ]
     },
     "metadata": {
      "needs_background": "light"
     },
     "output_type": "display_data"
    }
   ],
   "source": [
    "#Overall_Height\n",
    "plt.figure()\n",
    "plt.hist(df.Overall_Height, color = '#3541e5', alpha = 0.7)\n",
    "plt.xlabel('Overall Height')\n",
    "plt.ylabel('Frequency')\n",
    "plt.grid(False)"
   ]
  },
  {
   "cell_type": "code",
   "execution_count": 11,
   "metadata": {},
   "outputs": [
    {
     "data": {
      "image/png": "[encoded data removed]",
      "text/plain": [
       "<Figure size 432x288 with 1 Axes>"
      ]
     },
     "metadata": {
      "needs_background": "light"
     },
     "output_type": "display_data"
    }
   ],
   "source": [
    "#Orientation\n",
    "plt.figure()\n",
    "plt.hist(df.Orientation, color = '#3541e5', alpha = 0.7)\n",
    "plt.xlabel('Orientation')\n",
    "plt.ylabel('Frequency')\n",
    "plt.grid(False)"
   ]
  },
  {
   "cell_type": "code",
   "execution_count": 12,
   "metadata": {},
   "outputs": [
    {
     "data": {
      "image/png": "[encoded data removed]",
      "text/plain": [
       "<Figure size 432x288 with 1 Axes>"
      ]
     },
     "metadata": {
      "needs_background": "light"
     },
     "output_type": "display_data"
    }
   ],
   "source": [
    "#Glazing_Area\n",
    "plt.figure()\n",
    "plt.hist(df.Glazing_Area, color = '#3541e5', alpha = 0.7)\n",
    "plt.xlabel('Glazing Area')\n",
    "plt.ylabel('Frequency')\n",
    "plt.grid(False)"
   ]
  },
  {
   "cell_type": "code",
   "execution_count": 13,
   "metadata": {},
   "outputs": [
    {
     "data": {
      "image/png": "[encoded data removed]",
      "text/plain": [
       "<Figure size 432x288 with 1 Axes>"
      ]
     },
     "metadata": {
      "needs_background": "light"
     },
     "output_type": "display_data"
    }
   ],
   "source": [
    "#Glazing_Area_Distribution\n",
    "plt.figure()\n",
    "plt.hist(df.Glazing_Area_Distribution, color = '#3541e5', alpha = 0.7)\n",
    "plt.xlabel('Glazing Area Distribution')\n",
    "plt.ylabel('Frequency')\n",
    "plt.grid(False)"
   ]
  },
  {
   "cell_type": "code",
   "execution_count": 14,
   "metadata": {},
   "outputs": [
    {
     "data": {
      "image/png": "[encoded data removed]",
      "text/plain": [
       "<Figure size 432x288 with 1 Axes>"
      ]
     },
     "metadata": {
      "needs_background": "light"
     },
     "output_type": "display_data"
    }
   ],
   "source": [
    "#Heating_Load\n",
    "plt.figure()\n",
    "plt.hist(df.Heating_Load, color = '#242416', alpha = 0.7)\n",
    "plt.xlabel('Heating Load')\n",
    "plt.ylabel('Frequency')\n",
    "plt.grid(False)"
   ]
  },
  {
   "cell_type": "code",
   "execution_count": 15,
   "metadata": {},
   "outputs": [
    {
     "data": {
      "image/png": "[encoded data removed]",
      "text/plain": [
       "<Figure size 432x288 with 1 Axes>"
      ]
     },
     "metadata": {
      "needs_background": "light"
     },
     "output_type": "display_data"
    }
   ],
   "source": [
    "#Cooling_Load\n",
    "plt.figure()\n",
    "plt.hist(df.Cooling_Load, color = '#242416', alpha = 0.7)\n",
    "plt.xlabel('Cooling Load')\n",
    "plt.ylabel('Frequency')\n",
    "plt.grid(False)"
   ]
  },
  {
   "cell_type": "code",
   "execution_count": null,
   "metadata": {},
   "outputs": [],
   "source": []
  },
  {
   "cell_type": "code",
   "execution_count": null,
   "metadata": {},
   "outputs": [],
   "source": []
  },
  {
   "cell_type": "code",
   "execution_count": 16,
   "metadata": {},
   "outputs": [],
   "source": [
    "y1 = df[['Heating_Load']]\n",
    "y2 = df[['Cooling_Load']]\n",
    "data = df.drop(['Cooling_Load','Heating_Load'],axis=1)\n",
    "X = data.iloc[:,]"
   ]
  },
  {
   "cell_type": "code",
   "execution_count": 17,
   "metadata": {},
   "outputs": [
    {
     "data": {
      "text/plain": [
       "(768, 8)"
      ]
     },
     "execution_count": 17,
     "metadata": {},
     "output_type": "execute_result"
    }
   ],
   "source": [
    "X.shape"
   ]
  },
  {
   "cell_type": "code",
   "execution_count": null,
   "metadata": {},
   "outputs": [],
   "source": []
  },
  {
   "cell_type": "code",
   "execution_count": null,
   "metadata": {},
   "outputs": [],
   "source": []
  },
  {
   "cell_type": "code",
   "execution_count": null,
   "metadata": {},
   "outputs": [],
   "source": [
    "\n"
   ]
  },
  {
   "cell_type": "code",
   "execution_count": 21,
   "metadata": {},
   "outputs": [],
   "source": [
    "from sklearn.model_selection import train_test_split\n",
    "X_train, X_test, y_train, y_test =  train_test_split(X,y1,test_size = 0.2, random_state= 0)\n",
    "mse_values1 = []\n",
    "variance_score1 = []"
   ]
  },
  {
   "cell_type": "code",
   "execution_count": 22,
   "metadata": {},
   "outputs": [],
   "source": [
    "from sklearn.model_selection import train_test_split\n",
    "X_train, X_test, y_train2, y_test2 =  train_test_split(X,y2,test_size = 0.2, random_state= 0)\n",
    "mse_values2 = []\n",
    "variance_score2 = []"
   ]
  },
  {
   "cell_type": "code",
   "execution_count": 23,
   "metadata": {},
   "outputs": [],
   "source": [
    "from sklearn.preprocessing import StandardScaler\n",
    "sc_X = StandardScaler()\n",
    "X_train = sc_X.fit_transform(X_train)\n",
    "X_test = sc_X.transform(X_test)"
   ]
  },
  {
   "cell_type": "code",
   "execution_count": 24,
   "metadata": {},
   "outputs": [
    {
     "name": "stdout",
     "output_type": "stream",
     "text": [
      "X_train shape --> (614, 8)\n",
      "y_train shape --> (614, 1)\n",
      "X_test shape --> (154, 8)\n",
      "y_test shape --> (154, 1)\n"
     ]
    }
   ],
   "source": [
    "print(\"X_train shape --> {}\".format(X_train.shape))\n",
    "print(\"y_train shape --> {}\".format(y_train.shape))\n",
    "print(\"X_test shape --> {}\".format(X_test.shape))\n",
    "print(\"y_test shape --> {}\".format(y_test.shape))"
   ]
  },
  {
   "cell_type": "code",
   "execution_count": 26,
   "metadata": {},
   "outputs": [
    {
     "name": "stdout",
     "output_type": "stream",
     "text": [
      "Mean squared error:  11.213197021793643\n",
      "Variance score: 0.90\n"
     ]
    },
    {
     "name": "stderr",
     "output_type": "stream",
     "text": [
      "C:\\Users\\julie\\Anaconda3\\lib\\site-packages\\sklearn\\utils\\validation.py:578: DataConversionWarning: A column-vector y was passed when a 1d array was expected. Please change the shape of y to (n_samples, ), for example using ravel().\n",
      "  y = column_or_1d(y, warn=True)\n"
     ]
    }
   ],
   "source": [
    "LR = linear_model.SGDRegressor(max_iter=1000, tol=1e-3, penalty = 'l1')\n",
    "model1= LR.fit(X_train, y_train)\n",
    "predicted_y = LR.predict(X_test)\n",
    "print(\"Mean squared error: \", mean_squared_error(y_test, predicted_y))\n",
    "print('Variance score: %.2f' % r2_score(y_test, predicted_y))\n",
    "\n",
    "mse_values1.append(mean_squared_error(y_test, predicted_y))\n",
    "variance_score1.append(r2_score(y_test, predicted_y))"
   ]
  },
  {
   "cell_type": "code",
   "execution_count": 27,
   "metadata": {},
   "outputs": [
    {
     "name": "stdout",
     "output_type": "stream",
     "text": [
      "Mean squared error2:  11.290031083809021\n",
      "Variance score2: 0.88\n"
     ]
    },
    {
     "name": "stderr",
     "output_type": "stream",
     "text": [
      "C:\\Users\\julie\\Anaconda3\\lib\\site-packages\\sklearn\\utils\\validation.py:578: DataConversionWarning: A column-vector y was passed when a 1d array was expected. Please change the shape of y to (n_samples, ), for example using ravel().\n",
      "  y = column_or_1d(y, warn=True)\n"
     ]
    }
   ],
   "source": [
    "LR2 = linear_model.SGDRegressor(max_iter=1000, tol=1e-3, penalty = 'l1')\n",
    "model2= LR2.fit(X_train, y_train2)\n",
    "predicted_y2 = LR2.predict(X_test)\n",
    "print(\"Mean squared error2: \", mean_squared_error(y_test2, predicted_y2))\n",
    "print('Variance score2: %.2f' % r2_score(y_test2, predicted_y2))\n",
    "\n",
    "mse_values2.append(mean_squared_error(y_test2, predicted_y2))\n",
    "variance_score2.append(r2_score(y_test2, predicted_y2))"
   ]
  },
  {
   "cell_type": "code",
   "execution_count": 30,
   "metadata": {},
   "outputs": [
    {
     "data": {
      "text/plain": [
       "0.9148429253933645"
      ]
     },
     "execution_count": 30,
     "metadata": {},
     "output_type": "execute_result"
    }
   ],
   "source": [
    "LR.score(X_train,y_train)"
   ]
  },
  {
   "cell_type": "code",
   "execution_count": 29,
   "metadata": {},
   "outputs": [
    {
     "data": {
      "text/plain": [
       "0.8857645276806724"
      ]
     },
     "execution_count": 29,
     "metadata": {},
     "output_type": "execute_result"
    }
   ],
   "source": [
    "LR2.score(X_train,y_train2)"
   ]
  },
  {
   "cell_type": "code",
   "execution_count": 31,
   "metadata": {},
   "outputs": [
    {
     "name": "stdout",
     "output_type": "stream",
     "text": [
      "intercept: [22.16269495]\n"
     ]
    }
   ],
   "source": [
    "print('intercept:', model1.intercept_)"
   ]
  },
  {
   "cell_type": "code",
   "execution_count": 32,
   "metadata": {},
   "outputs": [
    {
     "name": "stdout",
     "output_type": "stream",
     "text": [
      "intercept: [24.52368651]\n"
     ]
    }
   ],
   "source": [
    "print('intercept:', model2.intercept_)"
   ]
  },
  {
   "cell_type": "code",
   "execution_count": 33,
   "metadata": {},
   "outputs": [
    {
     "name": "stdout",
     "output_type": "stream",
     "text": [
      "slope: [-1.92807023 -1.15655396  1.86891109 -2.02602298  6.86083699 -0.03934761\n",
      "  2.65045659  0.24002363]\n"
     ]
    }
   ],
   "source": [
    "print('slope:', model1.coef_)"
   ]
  },
  {
   "cell_type": "code",
   "execution_count": 34,
   "metadata": {},
   "outputs": [
    {
     "name": "stdout",
     "output_type": "stream",
     "text": [
      "slope: [-2.82345103 -1.15895622  1.02603944 -1.62543385  7.89440879  0.16025483\n",
      "  2.00458481  0.02832172]\n"
     ]
    }
   ],
   "source": [
    "print('slope:', model2.coef_)"
   ]
  },
  {
   "cell_type": "code",
   "execution_count": null,
   "metadata": {},
   "outputs": [],
   "source": [
    "decision_tree = tree.DecisionTreeRegressor(max_depth=3)"
   ]
  },
  {
   "cell_type": "code",
   "execution_count": 35,
   "metadata": {},
   "outputs": [
    {
     "name": "stdout",
     "output_type": "stream",
     "text": [
      "Accuracy on training set: 0.915\n",
      "Accuracy on test set: 0.898\n"
     ]
    },
    {
     "name": "stderr",
     "output_type": "stream",
     "text": [
      "C:\\Users\\julie\\Anaconda3\\lib\\site-packages\\sklearn\\utils\\validation.py:578: DataConversionWarning: A column-vector y was passed when a 1d array was expected. Please change the shape of y to (n_samples, ), for example using ravel().\n",
      "  y = column_or_1d(y, warn=True)\n",
      "C:\\Users\\julie\\Anaconda3\\lib\\site-packages\\sklearn\\utils\\validation.py:578: DataConversionWarning: A column-vector y was passed when a 1d array was expected. Please change the shape of y to (n_samples, ), for example using ravel().\n",
      "  y = column_or_1d(y, warn=True)\n",
      "C:\\Users\\julie\\Anaconda3\\lib\\site-packages\\sklearn\\utils\\validation.py:578: DataConversionWarning: A column-vector y was passed when a 1d array was expected. Please change the shape of y to (n_samples, ), for example using ravel().\n",
      "  y = column_or_1d(y, warn=True)\n",
      "C:\\Users\\julie\\Anaconda3\\lib\\site-packages\\sklearn\\utils\\validation.py:578: DataConversionWarning: A column-vector y was passed when a 1d array was expected. Please change the shape of y to (n_samples, ), for example using ravel().\n",
      "  y = column_or_1d(y, warn=True)\n",
      "C:\\Users\\julie\\Anaconda3\\lib\\site-packages\\sklearn\\utils\\validation.py:578: DataConversionWarning: A column-vector y was passed when a 1d array was expected. Please change the shape of y to (n_samples, ), for example using ravel().\n",
      "  y = column_or_1d(y, warn=True)\n",
      "C:\\Users\\julie\\Anaconda3\\lib\\site-packages\\sklearn\\utils\\validation.py:578: DataConversionWarning: A column-vector y was passed when a 1d array was expected. Please change the shape of y to (n_samples, ), for example using ravel().\n",
      "  y = column_or_1d(y, warn=True)\n",
      "C:\\Users\\julie\\Anaconda3\\lib\\site-packages\\sklearn\\utils\\validation.py:578: DataConversionWarning: A column-vector y was passed when a 1d array was expected. Please change the shape of y to (n_samples, ), for example using ravel().\n",
      "  y = column_or_1d(y, warn=True)\n",
      "C:\\Users\\julie\\Anaconda3\\lib\\site-packages\\sklearn\\utils\\validation.py:578: DataConversionWarning: A column-vector y was passed when a 1d array was expected. Please change the shape of y to (n_samples, ), for example using ravel().\n",
      "  y = column_or_1d(y, warn=True)\n",
      "C:\\Users\\julie\\Anaconda3\\lib\\site-packages\\sklearn\\utils\\validation.py:578: DataConversionWarning: A column-vector y was passed when a 1d array was expected. Please change the shape of y to (n_samples, ), for example using ravel().\n",
      "  y = column_or_1d(y, warn=True)\n",
      "C:\\Users\\julie\\Anaconda3\\lib\\site-packages\\sklearn\\utils\\validation.py:578: DataConversionWarning: A column-vector y was passed when a 1d array was expected. Please change the shape of y to (n_samples, ), for example using ravel().\n",
      "  y = column_or_1d(y, warn=True)\n"
     ]
    }
   ],
   "source": [
    "LR_scores = cross_val_score(LR, X_train, y_train, cv = 10)\n",
    "print(\"Accuracy on training set: {:.3f}\".format(LR.score(X_train,y_train)))\n",
    "print(\"Accuracy on test set: {:.3f}\".format(LR.score(X_test,y_test)))"
   ]
  },
  {
   "cell_type": "code",
   "execution_count": 36,
   "metadata": {},
   "outputs": [
    {
     "name": "stdout",
     "output_type": "stream",
     "text": [
      "Accuracy on training set: 0.886\n",
      "Accuracy on test set: 0.880\n"
     ]
    },
    {
     "name": "stderr",
     "output_type": "stream",
     "text": [
      "C:\\Users\\julie\\Anaconda3\\lib\\site-packages\\sklearn\\utils\\validation.py:578: DataConversionWarning: A column-vector y was passed when a 1d array was expected. Please change the shape of y to (n_samples, ), for example using ravel().\n",
      "  y = column_or_1d(y, warn=True)\n",
      "C:\\Users\\julie\\Anaconda3\\lib\\site-packages\\sklearn\\utils\\validation.py:578: DataConversionWarning: A column-vector y was passed when a 1d array was expected. Please change the shape of y to (n_samples, ), for example using ravel().\n",
      "  y = column_or_1d(y, warn=True)\n",
      "C:\\Users\\julie\\Anaconda3\\lib\\site-packages\\sklearn\\utils\\validation.py:578: DataConversionWarning: A column-vector y was passed when a 1d array was expected. Please change the shape of y to (n_samples, ), for example using ravel().\n",
      "  y = column_or_1d(y, warn=True)\n",
      "C:\\Users\\julie\\Anaconda3\\lib\\site-packages\\sklearn\\utils\\validation.py:578: DataConversionWarning: A column-vector y was passed when a 1d array was expected. Please change the shape of y to (n_samples, ), for example using ravel().\n",
      "  y = column_or_1d(y, warn=True)\n",
      "C:\\Users\\julie\\Anaconda3\\lib\\site-packages\\sklearn\\utils\\validation.py:578: DataConversionWarning: A column-vector y was passed when a 1d array was expected. Please change the shape of y to (n_samples, ), for example using ravel().\n",
      "  y = column_or_1d(y, warn=True)\n",
      "C:\\Users\\julie\\Anaconda3\\lib\\site-packages\\sklearn\\utils\\validation.py:578: DataConversionWarning: A column-vector y was passed when a 1d array was expected. Please change the shape of y to (n_samples, ), for example using ravel().\n",
      "  y = column_or_1d(y, warn=True)\n",
      "C:\\Users\\julie\\Anaconda3\\lib\\site-packages\\sklearn\\utils\\validation.py:578: DataConversionWarning: A column-vector y was passed when a 1d array was expected. Please change the shape of y to (n_samples, ), for example using ravel().\n",
      "  y = column_or_1d(y, warn=True)\n",
      "C:\\Users\\julie\\Anaconda3\\lib\\site-packages\\sklearn\\utils\\validation.py:578: DataConversionWarning: A column-vector y was passed when a 1d array was expected. Please change the shape of y to (n_samples, ), for example using ravel().\n",
      "  y = column_or_1d(y, warn=True)\n",
      "C:\\Users\\julie\\Anaconda3\\lib\\site-packages\\sklearn\\utils\\validation.py:578: DataConversionWarning: A column-vector y was passed when a 1d array was expected. Please change the shape of y to (n_samples, ), for example using ravel().\n",
      "  y = column_or_1d(y, warn=True)\n",
      "C:\\Users\\julie\\Anaconda3\\lib\\site-packages\\sklearn\\utils\\validation.py:578: DataConversionWarning: A column-vector y was passed when a 1d array was expected. Please change the shape of y to (n_samples, ), for example using ravel().\n",
      "  y = column_or_1d(y, warn=True)\n"
     ]
    }
   ],
   "source": [
    "LR2_scores = cross_val_score(LR2, X_train, y_train2, cv = 10)\n",
    "print(\"Accuracy on training set: {:.3f}\".format(LR2.score(X_train,y_train2)))\n",
    "print(\"Accuracy on test set: {:.3f}\".format(LR2.score(X_test,y_test2)))"
   ]
  },
  {
   "cell_type": "code",
   "execution_count": 38,
   "metadata": {},
   "outputs": [],
   "source": [
    "decision_tree = tree.DecisionTreeRegressor(max_depth=3)"
   ]
  },
  {
   "cell_type": "code",
   "execution_count": 40,
   "metadata": {},
   "outputs": [
    {
     "name": "stdout",
     "output_type": "stream",
     "text": [
      "Mean squared error:  6.417958206386818\n",
      "Variance score: 0.94\n"
     ]
    }
   ],
   "source": [
    "d =decision_tree.fit(X_train, y_train)\n",
    "predicted_y = decision_tree.predict(X_test)\n",
    "print(\"Mean squared error: \", mean_squared_error(y_test, predicted_y))\n",
    "print('Variance score: %.2f' % r2_score(y_test, predicted_y))\n",
    "\n",
    "mse_values1.append(mean_squared_error(y_test, predicted_y))\n",
    "variance_score1.append(r2_score(y_test, predicted_y))"
   ]
  },
  {
   "cell_type": "code",
   "execution_count": 41,
   "metadata": {},
   "outputs": [
    {
     "name": "stdout",
     "output_type": "stream",
     "text": [
      "Mean squared error:  7.150202385390337\n",
      "Variance score: 0.92\n"
     ]
    }
   ],
   "source": [
    "d2 =decision_tree.fit(X_train, y_train2)\n",
    "predicted_y2 = decision_tree.predict(X_test)\n",
    "print(\"Mean squared error: \", mean_squared_error(y_test2, predicted_y2))\n",
    "print('Variance score: %.2f' % r2_score(y_test2, predicted_y2))\n",
    "\n",
    "mse_values2.append(mean_squared_error(y_test2, predicted_y2))\n",
    "variance_score2.append(r2_score(y_test2, predicted_y2))"
   ]
  },
  {
   "cell_type": "code",
   "execution_count": 42,
   "metadata": {},
   "outputs": [
    {
     "data": {
      "text/plain": [
       "0.8777377493929123"
      ]
     },
     "execution_count": 42,
     "metadata": {},
     "output_type": "execute_result"
    }
   ],
   "source": [
    "decision_tree.score(X_train,y_train)"
   ]
  },
  {
   "cell_type": "code",
   "execution_count": 43,
   "metadata": {},
   "outputs": [
    {
     "data": {
      "text/plain": [
       "0.8800064898350551"
      ]
     },
     "execution_count": 43,
     "metadata": {},
     "output_type": "execute_result"
    }
   ],
   "source": [
    "decision_tree.score(X_test,y_test)"
   ]
  },
  {
   "cell_type": "code",
   "execution_count": 44,
   "metadata": {},
   "outputs": [
    {
     "data": {
      "text/plain": [
       "0.9310314256947049"
      ]
     },
     "execution_count": 44,
     "metadata": {},
     "output_type": "execute_result"
    }
   ],
   "source": [
    "decision_tree.score(X_train,y_train2)"
   ]
  },
  {
   "cell_type": "code",
   "execution_count": 45,
   "metadata": {},
   "outputs": [
    {
     "data": {
      "text/plain": [
       "0.923978972480023"
      ]
     },
     "execution_count": 45,
     "metadata": {},
     "output_type": "execute_result"
    }
   ],
   "source": [
    "decision_tree.score(X_test,y_test2)"
   ]
  },
  {
   "cell_type": "code",
   "execution_count": 46,
   "metadata": {},
   "outputs": [
    {
     "data": {
      "text/plain": [
       "array([0.01348704, 0.07632682, 0.00924506, 0.        , 0.86189526,\n",
       "       0.        , 0.03904582, 0.        ])"
      ]
     },
     "execution_count": 46,
     "metadata": {},
     "output_type": "execute_result"
    }
   ],
   "source": [
    "d.feature_importances_"
   ]
  },
  {
   "cell_type": "code",
   "execution_count": 47,
   "metadata": {},
   "outputs": [
    {
     "data": {
      "text/plain": [
       "array([0.01348704, 0.07632682, 0.00924506, 0.        , 0.86189526,\n",
       "       0.        , 0.03904582, 0.        ])"
      ]
     },
     "execution_count": 47,
     "metadata": {},
     "output_type": "execute_result"
    }
   ],
   "source": [
    "d2.feature_importances_"
   ]
  },
  {
   "cell_type": "code",
   "execution_count": 48,
   "metadata": {},
   "outputs": [
    {
     "name": "stdout",
     "output_type": "stream",
     "text": [
      "Accuracy on training set: 0.878\n",
      "Accuracy on test set: 0.880\n"
     ]
    }
   ],
   "source": [
    "dt_scores = cross_val_score(decision_tree, X_train, y_train, cv = 10)\n",
    "print(\"Accuracy on training set: {:.3f}\".format(decision_tree.score(X_train,y_train)))\n",
    "print(\"Accuracy on test set: {:.3f}\".format(decision_tree.score(X_test,y_test)))"
   ]
  },
  {
   "cell_type": "code",
   "execution_count": 49,
   "metadata": {},
   "outputs": [
    {
     "name": "stdout",
     "output_type": "stream",
     "text": [
      "Accuracy on training set: 0.931\n",
      "Accuracy on test set: 0.924\n"
     ]
    }
   ],
   "source": [
    "dt_scores2 = cross_val_score(decision_tree, X_train, y_train2, cv = 10)\n",
    "print(\"Accuracy on training set: {:.3f}\".format(decision_tree.score(X_train,y_train2)))\n",
    "print(\"Accuracy on test set: {:.3f}\".format(decision_tree.score(X_test,y_test2)))"
   ]
  },
  {
   "cell_type": "code",
   "execution_count": null,
   "metadata": {},
   "outputs": [],
   "source": []
  },
  {
   "cell_type": "code",
   "execution_count": null,
   "metadata": {},
   "outputs": [],
   "source": []
  },
  {
   "cell_type": "code",
   "execution_count": null,
   "metadata": {},
   "outputs": [],
   "source": []
  }
 ],
 "metadata": {
  "kernelspec": {
   "display_name": "Python 3",
   "language": "python",
   "name": "python3"
  },
  "language_info": {
   "codemirror_mode": {
    "name": "ipython",
    "version": 3
   },
   "file_extension": ".py",
   "mimetype": "text/x-python",
   "name": "python",
   "nbconvert_exporter": "python",
   "pygments_lexer": "ipython3",
   "version": "3.7.0"
  }
 },
 "nbformat": 4,
 "nbformat_minor": 2
}
